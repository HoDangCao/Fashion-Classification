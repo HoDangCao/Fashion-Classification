{
  "cells": [
    {
      "attachments": {},
      "cell_type": "markdown",
      "metadata": {
        "id": "FECIBC3rZhx8"
      },
      "source": [
        "### Import Library\n"
      ]
    },
    {
      "cell_type": "code",
      "execution_count": 1,
      "metadata": {
        "id": "k17MSXeFZhyM"
      },
      "outputs": [],
      "source": [
        "import numpy as np\n",
        "import pandas as pd\n",
        "import matplotlib.pyplot as plt"
      ]
    },
    {
      "attachments": {},
      "cell_type": "markdown",
      "metadata": {
        "id": "_cqHmDtwZhyU"
      },
      "source": [
        "### Đọc dataset"
      ]
    },
    {
      "cell_type": "code",
      "execution_count": 4,
      "metadata": {
        "id": "WR4eFI3sZhyY"
      },
      "outputs": [],
      "source": [
        "def readData(file_train,file_test):\n",
        "    df_train=pd.read_csv(file_train)\n",
        "    df_test=pd.read_csv(file_test)\n",
        "    train_X=df_train.iloc[:,1:]\n",
        "    train_Y=df_train.iloc[:,0]\n",
        "    test_X=df_test.iloc[:,1:]\n",
        "    test_Y=df_test.iloc[:,0]\n",
        "    return np.array(train_X), np.array(train_Y), np.array(test_X), np.array(test_Y)"
      ]
    },
    {
      "cell_type": "code",
      "execution_count": 5,
      "metadata": {
        "id": "b6MscT0oZhya"
      },
      "outputs": [],
      "source": [
        "train_X, train_Y, test_X, test_Y=readData('./fashion-mnist_train.csv','./fashion-mnist_test.csv')"
      ]
    },
    {
      "cell_type": "code",
      "execution_count": 7,
      "metadata": {},
      "outputs": [
        {
          "data": {
            "image/png": "[encoded data removed]",
            "text/plain": [
              "<Figure size 1000x500 with 10 Axes>"
            ]
          },
          "metadata": {},
          "output_type": "display_data"
        }
      ],
      "source": [
        "Class_label=['T-shirt/Top', 'Trouser', 'Pullover', 'Dress', 'Coat', 'Sandal', 'Shirt','Sneaker', 'Bag', 'Ankle boot']\n",
        "rand_arr=np.random.choice(range(train_X.shape[0]),10)\n",
        "plt.figure(figsize=(10,5))\n",
        "for i, index in enumerate(rand_arr):\n",
        "    plt.subplot(2,5,i+1)\n",
        "    plt.imshow(train_X[index].reshape(28,28),cmap='gist_gray')\n",
        "    plt.xticks([])\n",
        "    plt.yticks([])\n",
        "    plt.xlabel(Class_label[train_Y[index]],color='green')"
      ]
    },
    {
      "attachments": {},
      "cell_type": "markdown",
      "metadata": {
        "id": "l5QHR7IRZhyc"
      },
      "source": [
        "### Khám phá dữ liệu "
      ]
    },
    {
      "cell_type": "code",
      "execution_count": 8,
      "metadata": {
        "colab": {
          "base_uri": "https://localhost:8080/"
        },
        "id": "pYoc3xXOZhye",
        "outputId": "897812d9-54e7-4d4b-c822-d5b351fe8ab3"
      },
      "outputs": [
        {
          "name": "stdout",
          "output_type": "stream",
          "text": [
            "(60000, 784)\n",
            "(60000,)\n",
            "(10000, 784)\n",
            "(10000,)\n"
          ]
        }
      ],
      "source": [
        "print(train_X.shape)\n",
        "print(train_Y.shape)\n",
        "print(test_X.shape)\n",
        "print(test_Y.shape)"
      ]
    },
    {
      "cell_type": "code",
      "execution_count": 9,
      "metadata": {},
      "outputs": [
        {
          "data": {
            "text/plain": [
              "array([0, 1, 2, 3, 4, 5, 6, 7, 8, 9], dtype=int64)"
            ]
          },
          "execution_count": 9,
          "metadata": {},
          "output_type": "execute_result"
        }
      ],
      "source": [
        "np.unique(train_Y)"
      ]
    },
    {
      "attachments": {},
      "cell_type": "markdown",
      "metadata": {
        "id": "TnozOA3CZhyp"
      },
      "source": [
        "### Tiền xử lý dữ liệu"
      ]
    },
    {
      "cell_type": "code",
      "execution_count": 10,
      "metadata": {
        "id": "yNOOnTP-Zhys"
      },
      "outputs": [],
      "source": [
        "def add_ones(X):\n",
        "    return np.hstack((np.ones((len(X), 1)), X))"
      ]
    },
    {
      "cell_type": "code",
      "execution_count": 11,
      "metadata": {},
      "outputs": [],
      "source": [
        "def scale(X):# min max scale to 0-1\n",
        "    return (X - X.min()) / (X.max() - X.min())"
      ]
    },
    {
      "cell_type": "code",
      "execution_count": 12,
      "metadata": {},
      "outputs": [],
      "source": [
        "def normalize(X):# z_score normalize\n",
        "    normalized = (X - (X).mean(axis=0)) / (X).std(axis=0)\n",
        "    normalized[normalized != normalized] = 0\n",
        "    return normalized"
      ]
    },
    {
      "attachments": {},
      "cell_type": "markdown",
      "metadata": {},
      "source": [
        "Ta thử thiết kế ra ma trận đầu vào $\\textbf{X news}$ thay cho ma trận đầu vào $\\textbf{X}$ sao cho ma trận đầu vào $\\textbf{X news}$ sẽ giúp mô hình Softmax Regression dự đoán đầu ra $Y$ tốt hơn hơn. Cụ thể ở đây, ta sẽ thử một cách thiết kế đơn giản cho ma trận đầu vào $\\textbf{X news}$: $\\textbf{X news}$ là $\\textbf{X}$ (chứa các giá trị pixel) được bổ sung thêm 2 đặc trưng là \"intensity\" và \"symmetry\".\n",
        "\n",
        "- \"intensity\" của một ảnh cho biết giá trị pixel trung bình của ảnh; đặc trưng này có thể giúp ích cho việc phân tách giữa các hình vì các áo quần, giày dép ít vải hơn (\"intensity\" thấp) và có các áo quần, giày dép nhiều vải hơn (\"intensity\" cao).\n",
        "- \"symmetry\" của ảnh cho biết mức độ đối xứng của ảnh; đặc trưng này cũng có thể giúp ích cho việc phân tách giữa các trang phục vì giày dép mức độ đối xứng thấp hơn áo quần và độ đối xứng giữa các áo quần tay dài và ngắn cũng khác nhau. Cụ thể, \"symmetry\" của ảnh được tính như sau:\n",
        "    - Lấy ảnh trừ đi ảnh lật theo chiều ngang, lấy trị tuyệt đối, rồi tính trung bình. Gọi kết quả tính được là s1\n",
        "    - Lấy ảnh trừ đi ảnh lật theo chiều dọc, lấy trị tuyệt đối, rồi tính trung bình. Gọi kết quả tính được là s2\n",
        "    - symmetry = - (s1 + s2) / 2"
      ]
    },
    {
      "cell_type": "code",
      "execution_count": 13,
      "metadata": {},
      "outputs": [],
      "source": [
        "def add_features(X):\n",
        "    intens = (X.sum(axis=1)/X.shape[1]).reshape(-1,1)\n",
        "    symm = np.array([])\n",
        "    for i in range(X.shape[0]):\n",
        "        img = X[i].reshape(28,28)\n",
        "        s1 = np.sum(np.abs(img - np.flip(img,axis=0)))/X.shape[1]\n",
        "        s2 = np.sum(np.abs(img - np.flip(img,axis=1)))/X.shape[1]\n",
        "        symm_element = -(s1+s2)/2\n",
        "        symm = np.append(symm, symm_element)\n",
        "    symm = symm.reshape(-1,1)\n",
        "    mins = np.array([np.min(intens),np.min(symm)])\n",
        "    maxs = np.array([np.max(intens),np.max(symm)])\n",
        "    max_min = maxs-mins\n",
        "    intens = (intens - mins[0])/max_min[0]\n",
        "    symm = (symm - mins[1])/max_min[1]\n",
        "    add_col = np.hstack((intens, symm))\n",
        "    X = np.hstack((X,add_col))\n",
        "    return X\n",
        "    "
      ]
    },
    {
      "cell_type": "code",
      "execution_count": 14,
      "metadata": {},
      "outputs": [],
      "source": [
        "Train_X_new = add_features(scale(train_X))"
      ]
    },
    {
      "cell_type": "code",
      "execution_count": 15,
      "metadata": {},
      "outputs": [
        {
          "name": "stdout",
          "output_type": "stream",
          "text": [
            "(60000, 787)\n"
          ]
        }
      ],
      "source": [
        "Train_X_new = add_ones(Train_X_new)\n",
        "print(Train_X_new.shape)"
      ]
    },
    {
      "cell_type": "code",
      "execution_count": 16,
      "metadata": {},
      "outputs": [
        {
          "name": "stdout",
          "output_type": "stream",
          "text": [
            "Min of train_X: 0.0, max of train_X: 1.0\n"
          ]
        }
      ],
      "source": [
        "print(f'Min of train_X: {Train_X_new.min()}, max of train_X: {Train_X_new.max()}')"
      ]
    },
    {
      "cell_type": "code",
      "execution_count": 17,
      "metadata": {},
      "outputs": [
        {
          "data": {
            "text/plain": [
              "array([1.        , 0.01568627, 0.24313725, ..., 0.16078431, 0.37049095,\n",
              "       0.75318837])"
            ]
          },
          "execution_count": 17,
          "metadata": {},
          "output_type": "execute_result"
        }
      ],
      "source": [
        "Train_X_new[Train_X_new != 0]"
      ]
    },
    {
      "attachments": {},
      "cell_type": "markdown",
      "metadata": {
        "id": "W6Uhx4bYZhyu"
      },
      "source": [
        "### Mô hình Softmax Regression"
      ]
    },
    {
      "attachments": {},
      "cell_type": "markdown",
      "metadata": {},
      "source": [
        "Hàm softmax cho dữ liệu\n",
        "- Input: Giá trị đầu vào Z (X*W)\n",
        "- Output: Giá trị xác suất sau khi được tính toán bởi hàm soft max"
      ]
    },
    {
      "cell_type": "code",
      "execution_count": 18,
      "metadata": {},
      "outputs": [],
      "source": [
        "def softmax(z):\n",
        "    exp_Z = np.exp(z - np.max(z, axis=1, keepdims=True))\n",
        "    sum_mau = np.sum(exp_Z, axis=1).reshape(-1,1)\n",
        "    sft = exp_Z / sum_mau\n",
        "    return sft"
      ]
    },
    {
      "attachments": {},
      "cell_type": "markdown",
      "metadata": {},
      "source": [
        "Hàm trả về toàn bộ layer\n",
        "- Input: Giá trị đầu vào Z (X*W)\n",
        "- Output: Giá trị xác suất của toàn bộ layer"
      ]
    },
    {
      "cell_type": "code",
      "execution_count": 19,
      "metadata": {},
      "outputs": [],
      "source": [
        "def compute_output_all_layer(Z):\n",
        "    return softmax(Z)"
      ]
    },
    {
      "attachments": {},
      "cell_type": "markdown",
      "metadata": {},
      "source": [
        "Hàm trả về max layer\n",
        "- Input: Giá trị đầu vào Z (X*W)\n",
        "- Output: Giá trị xác suất lớn nhất layer"
      ]
    },
    {
      "cell_type": "code",
      "execution_count": 20,
      "metadata": {},
      "outputs": [],
      "source": [
        "def compute_output_max_layer(Z):\n",
        "    return np.argmax(softmax(Z), axis=1)"
      ]
    },
    {
      "attachments": {},
      "cell_type": "markdown",
      "metadata": {},
      "source": [
        "Hàm trả về độ lỗi (tỉ lệ dự đoán sai %)\n",
        "- Input: Giá trị dự đoán, giá trị thực\n",
        "- Output: Tỉ lệ dự đoán sai so với giá trị thực"
      ]
    },
    {
      "cell_type": "code",
      "execution_count": 21,
      "metadata": {},
      "outputs": [],
      "source": [
        "def compute_mbe(predicted_y, y, N):\n",
        "    return np.sum(predicted_y != y) / N * 100"
      ]
    },
    {
      "attachments": {},
      "cell_type": "markdown",
      "metadata": {},
      "source": [
        "Hàm tính cross entropy\n",
        "- Input: Giá trị đầu vào one-hot vector, giá trị xác suất của layer\n",
        "- Output: Cross entropy của layer"
      ]
    },
    {
      "cell_type": "code",
      "execution_count": 22,
      "metadata": {},
      "outputs": [],
      "source": [
        "def cross_entropy(p, t):\n",
        "    return -np.sum(p * np.log(t))"
      ]
    },
    {
      "attachments": {},
      "cell_type": "markdown",
      "metadata": {},
      "source": [
        "Hàm chuyển ma trận mục tiêu thành ma trận one-hot\n",
        "- Input: Dữ liệu mục tiêu\n",
        "- Output: Dự liệu mục tiêu dạng one-hot"
      ]
    },
    {
      "cell_type": "code",
      "execution_count": 23,
      "metadata": {},
      "outputs": [],
      "source": [
        "def one_hot_transform(y,num_class):\n",
        "    return np.eye(num_class)[y]"
      ]
    },
    {
      "attachments": {},
      "cell_type": "markdown",
      "metadata": {},
      "source": [
        "Hàm chia mini-batch\n",
        "- Input: Dữ liệu huấn luyện X, dữ liệu one-hot y, độ lớn của batch, tập hợp của vị trí của các dòng dữ liệu X\n",
        "- Output: Các batch ngẫu nhiên"
      ]
    },
    {
      "cell_type": "code",
      "execution_count": 24,
      "metadata": {},
      "outputs": [],
      "source": [
        "def implement_minibatches(inputs, targets, batchsize, indices):\n",
        "    np.random.shuffle(indices)\n",
        "    for start_ID in range(0, len(indices) - batchsize + 1, batchsize):\n",
        "        wanted = indices[start_ID:start_ID + batchsize]\n",
        "        yield inputs[wanted], targets[wanted]"
      ]
    },
    {
      "attachments": {},
      "cell_type": "markdown",
      "metadata": {},
      "source": [
        "Hàm tính gradient desent cho mini-batch\n",
        "- Input: Giá trị dự đoán, giá trị thực, dữ liệu X, độ lớn của batch\n",
        "- Output: Giá trị gradient desent"
      ]
    },
    {
      "cell_type": "code",
      "execution_count": 25,
      "metadata": {},
      "outputs": [],
      "source": [
        "def compute_grad(Pred,Actula,X,minibat_size):\n",
        "    return (1 / minibat_size) * X.T@(Pred - Actula)"
      ]
    },
    {
      "attachments": {},
      "cell_type": "markdown",
      "metadata": {},
      "source": [
        "Hàm train dữ liệu"
      ]
    },
    {
      "cell_type": "code",
      "execution_count": 26,
      "metadata": {
        "id": "ZW4RMjLUZhyv"
      },
      "outputs": [],
      "source": [
        "def train_smreg(X, y, mb_size, lr, max_epoch, wanted_mbe):\n",
        "    N, D = X.shape\n",
        "    n_class = len(np.unique(y))\n",
        "    W = np.zeros((D, n_class))\n",
        "    y_one_hot = one_hot_transform(y, n_class)\n",
        "    cross_entropy_losses = []\n",
        " \n",
        "    indices = np.arange(N)\n",
        "    for epoch in range(max_epoch):\n",
        "        mini_batches = implement_minibatches(X, y_one_hot, mb_size, indices)\n",
        "        for batch in mini_batches:\n",
        "            x_mb, y_mb = batch\n",
        "            Z = x_mb@W\n",
        "            probs = compute_output_all_layer(Z)\n",
        "            grad = compute_grad(probs,y_mb,x_mb,mb_size)\n",
        "            W -= lr * grad\n",
        "        \n",
        "        Z = X@W\n",
        "        # Tính cross entropy loss\n",
        "        probs = compute_output_all_layer(Z)\n",
        "        cross_entropy_loss = 1/N * cross_entropy(y_one_hot, probs)\n",
        "        cross_entropy_losses = np.append(cross_entropy_losses, cross_entropy_loss)\n",
        " \n",
        "        # Tính mbe\n",
        "        predicted_y = compute_output_max_layer(Z)\n",
        "        mbe = compute_mbe(predicted_y, y, N)\n",
        "        print('mbe:',mbe)\n",
        "        if mbe <= wanted_mbe:\n",
        "            break\n",
        "\n",
        "    return W, cross_entropy_losses\n",
        "\n",
        "def predict(W, X):\n",
        "    X_new = add_features(scale(X))\n",
        "    X_new = add_ones(X_new)\n",
        "    Z = X_new@W\n",
        "    preds = compute_output_max_layer(Z)\n",
        "    return preds\n",
        "\n",
        "def accuracy(y_pred, y_test):\n",
        "    return 1 - compute_mbe(y_pred,y_test,len(y_test))/100"
      ]
    },
    {
      "attachments": {},
      "cell_type": "markdown",
      "metadata": {
        "id": "0Kmrw3epZhy7"
      },
      "source": [
        "### Test dữ liệu"
      ]
    },
    {
      "attachments": {},
      "cell_type": "markdown",
      "metadata": {
        "id": "_Oo_9WmPFDh8"
      },
      "source": [
        "### Softmax with GD"
      ]
    },
    {
      "cell_type": "code",
      "execution_count": 27,
      "metadata": {
        "colab": {
          "base_uri": "https://localhost:8080/",
          "height": 269
        },
        "id": "bk-vE0V-E7CZ",
        "outputId": "f788fb25-3b1c-4f42-8e26-422d98467867"
      },
      "outputs": [
        {
          "name": "stdout",
          "output_type": "stream",
          "text": [
            "mbe: 69.11666666666667\n",
            "mbe: 55.276666666666664\n",
            "mbe: 46.800000000000004\n",
            "mbe: 41.38666666666666\n",
            "mbe: 38.263333333333335\n",
            "mbe: 36.483333333333334\n",
            "mbe: 35.58833333333333\n",
            "mbe: 34.945\n",
            "mbe: 34.596666666666664\n",
            "mbe: 34.325\n",
            "mbe: 34.178333333333335\n",
            "mbe: 34.04\n",
            "mbe: 33.98833333333333\n",
            "mbe: 33.95333333333333\n",
            "mbe: 33.928333333333335\n",
            "mbe: 33.858333333333334\n",
            "mbe: 33.815\n",
            "mbe: 33.76833333333333\n",
            "mbe: 33.751666666666665\n",
            "mbe: 33.72\n",
            "mbe: 33.695\n",
            "mbe: 33.663333333333334\n",
            "mbe: 33.64333333333333\n",
            "mbe: 33.62833333333333\n",
            "mbe: 33.60666666666667\n",
            "mbe: 33.575\n",
            "mbe: 33.538333333333334\n",
            "mbe: 33.5\n",
            "mbe: 33.483333333333334\n",
            "mbe: 33.46666666666667\n",
            "mbe: 33.44\n",
            "mbe: 33.41833333333334\n",
            "mbe: 33.39833333333333\n",
            "mbe: 33.38333333333333\n",
            "mbe: 33.34666666666667\n",
            "mbe: 33.29666666666667\n",
            "mbe: 33.263333333333335\n",
            "mbe: 33.233333333333334\n",
            "mbe: 33.196666666666665\n",
            "mbe: 33.15\n",
            "mbe: 33.105000000000004\n",
            "mbe: 33.05833333333334\n",
            "mbe: 33.00833333333333\n",
            "mbe: 32.95666666666667\n",
            "mbe: 32.928333333333335\n",
            "mbe: 32.87\n",
            "mbe: 32.803333333333335\n",
            "mbe: 32.736666666666665\n",
            "mbe: 32.681666666666665\n",
            "mbe: 32.60166666666667\n",
            "[2.22580463 2.16172973 2.10472705 2.05242922 2.00374228 1.9580947\n",
            " 1.91513906 1.87463039 1.83637501 1.80020816 1.76598368 1.73356898\n",
            " 1.70284238 1.67369157 1.64601262 1.61970919 1.59469191 1.57087789\n",
            " 1.54819024 1.52655759 1.50591374 1.48619724 1.46735106 1.44932227\n",
            " 1.43206169 1.41552367 1.39966576 1.38444852 1.36983525 1.35579179\n",
            " 1.34228634 1.32928926 1.31677293 1.30471156 1.29308109 1.28185902\n",
            " 1.27102432 1.26055733 1.25043961 1.2406539  1.23118401 1.22201475\n",
            " 1.21313185 1.2045219  1.19617228 1.18807113 1.18020726 1.17257013\n",
            " 1.16514981 1.15793691]\n",
            "CPU times: total: 4min 38s\n",
            "Wall time: 3min 38s\n"
          ]
        },
        {
          "data": {
            "text/plain": [
              "Text(0, 0.5, 'Log (for clarity) of training cross-entropy')"
            ]
          },
          "execution_count": 27,
          "metadata": {},
          "output_type": "execute_result"
        },
        {
          "data": {
            "image/png": "[encoded data removed]",
            "text/plain": [
              "<Figure size 640x480 with 1 Axes>"
            ]
          },
          "metadata": {},
          "output_type": "display_data"
        }
      ],
      "source": [
        "%%time\n",
        "W_GD, train_ces = train_smreg(\n",
        "    Train_X_new, train_Y, mb_size=len(Train_X_new), lr=0.03, max_epoch=50, wanted_mbe=12)\n",
        "# print(W_3a)\n",
        "print(train_ces)\n",
        "plt.plot(np.log(train_ces))\n",
        "plt.xlabel('Epoch')\n",
        "plt.ylabel('Log (for clarity) of training cross-entropy')"
      ]
    },
    {
      "cell_type": "code",
      "execution_count": null,
      "metadata": {},
      "outputs": [],
      "source": []
    },
    {
      "attachments": {},
      "cell_type": "markdown",
      "metadata": {
        "id": "vwwow14IJOjN"
      },
      "source": [
        "### softmax with Mini-batch GD"
      ]
    },
    {
      "cell_type": "code",
      "execution_count": 28,
      "metadata": {
        "colab": {
          "base_uri": "https://localhost:8080/",
          "height": 536
        },
        "id": "ZORu4ID7JNwM",
        "outputId": "25c1a1cc-4e8c-47ec-ebca-b0f3f45ba824"
      },
      "outputs": [
        {
          "name": "stdout",
          "output_type": "stream",
          "text": [
            "mbe: 17.503333333333334\n",
            "mbe: 17.026666666666667\n",
            "mbe: 15.888333333333332\n",
            "mbe: 15.311666666666667\n",
            "mbe: 15.151666666666666\n",
            "mbe: 14.715\n",
            "mbe: 14.718333333333334\n",
            "mbe: 14.360000000000001\n",
            "mbe: 14.365\n",
            "mbe: 14.113333333333333\n",
            "mbe: 14.083333333333334\n",
            "mbe: 13.996666666666666\n",
            "mbe: 14.271666666666667\n",
            "mbe: 14.268333333333333\n",
            "mbe: 13.966666666666667\n",
            "mbe: 14.433333333333334\n",
            "mbe: 13.826666666666668\n",
            "mbe: 13.836666666666666\n",
            "mbe: 14.043333333333333\n",
            "mbe: 13.87\n",
            "mbe: 13.591666666666665\n",
            "mbe: 14.328333333333335\n",
            "mbe: 13.458333333333334\n",
            "mbe: 13.913333333333334\n",
            "mbe: 13.433333333333334\n",
            "mbe: 13.523333333333335\n",
            "mbe: 13.738333333333333\n",
            "mbe: 13.481666666666667\n",
            "mbe: 13.763333333333334\n",
            "mbe: 13.536666666666667\n",
            "mbe: 13.416666666666666\n",
            "mbe: 13.305\n",
            "mbe: 13.588333333333333\n",
            "mbe: 13.305\n",
            "mbe: 13.96\n",
            "mbe: 13.406666666666666\n",
            "mbe: 13.275\n",
            "mbe: 13.351666666666667\n",
            "mbe: 13.708333333333334\n",
            "mbe: 13.391666666666666\n",
            "mbe: 13.388333333333332\n",
            "mbe: 14.263333333333334\n",
            "mbe: 13.651666666666667\n",
            "mbe: 13.331666666666667\n",
            "mbe: 13.014999999999999\n",
            "mbe: 13.161666666666665\n",
            "mbe: 13.341666666666665\n",
            "mbe: 13.15\n",
            "mbe: 13.655000000000001\n",
            "mbe: 13.395000000000001\n",
            "CPU times: total: 3min 42s\n",
            "Wall time: 3min 59s\n"
          ]
        },
        {
          "data": {
            "text/plain": [
              "Text(0, 0.5, 'Log (for clarity) of training cross-entropy')"
            ]
          },
          "execution_count": 28,
          "metadata": {},
          "output_type": "execute_result"
        },
        {
          "data": {
            "image/png": "[encoded data removed]",
            "text/plain": [
              "<Figure size 640x480 with 1 Axes>"
            ]
          },
          "metadata": {},
          "output_type": "display_data"
        }
      ],
      "source": [
        "%%time\n",
        "W_mini, train_ces = train_smreg(\n",
        "    Train_X_new, train_Y, mb_size=32, lr=0.03, max_epoch=50, wanted_mbe = 13)\n",
        "\n",
        "plt.plot(np.log(train_ces))\n",
        "plt.xlabel('Epoch')\n",
        "plt.ylabel('Log (for clarity) of training cross-entropy')\n",
        "# print(train_ces)"
      ]
    },
    {
      "attachments": {},
      "cell_type": "markdown",
      "metadata": {},
      "source": [
        "### Đánh giá mô hình "
      ]
    },
    {
      "cell_type": "code",
      "execution_count": 29,
      "metadata": {},
      "outputs": [
        {
          "data": {
            "text/plain": [
              "array([0, 1, 2, ..., 8, 8, 2], dtype=int64)"
            ]
          },
          "execution_count": 29,
          "metadata": {},
          "output_type": "execute_result"
        }
      ],
      "source": [
        "y_pred = predict(W_mini, test_X)\n",
        "y_pred"
      ]
    },
    {
      "cell_type": "code",
      "execution_count": 30,
      "metadata": {},
      "outputs": [
        {
          "data": {
            "text/plain": [
              "0.852"
            ]
          },
          "execution_count": 30,
          "metadata": {},
          "output_type": "execute_result"
        }
      ],
      "source": [
        "accuracy(y_pred, test_Y)"
      ]
    },
    {
      "cell_type": "code",
      "execution_count": 70,
      "metadata": {},
      "outputs": [
        {
          "data": {
            "text/html": [
              "<div>\n",
              "<style scoped>\n",
              "    .dataframe tbody tr th:only-of-type {\n",
              "        vertical-align: middle;\n",
              "    }\n",
              "\n",
              "    .dataframe tbody tr th {\n",
              "        vertical-align: top;\n",
              "    }\n",
              "\n",
              "    .dataframe thead th {\n",
              "        text-align: right;\n",
              "    }\n",
              "</style>\n",
              "<table border=\"1\" class=\"dataframe\">\n",
              "  <thead>\n",
              "    <tr style=\"text-align: right;\">\n",
              "      <th></th>\n",
              "      <th></th>\n",
              "      <th>count</th>\n",
              "    </tr>\n",
              "    <tr>\n",
              "      <th>actual</th>\n",
              "      <th>predict</th>\n",
              "      <th></th>\n",
              "    </tr>\n",
              "  </thead>\n",
              "  <tbody>\n",
              "    <tr>\n",
              "      <th>2</th>\n",
              "      <th>6</th>\n",
              "      <td>167</td>\n",
              "    </tr>\n",
              "    <tr>\n",
              "      <th>6</th>\n",
              "      <th>0</th>\n",
              "      <td>145</td>\n",
              "    </tr>\n",
              "    <tr>\n",
              "      <th>4</th>\n",
              "      <th>6</th>\n",
              "      <td>137</td>\n",
              "    </tr>\n",
              "    <tr>\n",
              "      <th>0</th>\n",
              "      <th>6</th>\n",
              "      <td>126</td>\n",
              "    </tr>\n",
              "    <tr>\n",
              "      <th>2</th>\n",
              "      <th>4</th>\n",
              "      <td>114</td>\n",
              "    </tr>\n",
              "    <tr>\n",
              "      <th rowspan=\"2\" valign=\"top\">6</th>\n",
              "      <th>2</th>\n",
              "      <td>68</td>\n",
              "    </tr>\n",
              "    <tr>\n",
              "      <th>4</th>\n",
              "      <td>67</td>\n",
              "    </tr>\n",
              "    <tr>\n",
              "      <th>4</th>\n",
              "      <th>2</th>\n",
              "      <td>54</td>\n",
              "    </tr>\n",
              "    <tr>\n",
              "      <th>7</th>\n",
              "      <th>9</th>\n",
              "      <td>50</td>\n",
              "    </tr>\n",
              "    <tr>\n",
              "      <th>3</th>\n",
              "      <th>6</th>\n",
              "      <td>42</td>\n",
              "    </tr>\n",
              "    <tr>\n",
              "      <th>5</th>\n",
              "      <th>7</th>\n",
              "      <td>41</td>\n",
              "    </tr>\n",
              "    <tr>\n",
              "      <th>7</th>\n",
              "      <th>5</th>\n",
              "      <td>41</td>\n",
              "    </tr>\n",
              "    <tr>\n",
              "      <th>9</th>\n",
              "      <th>7</th>\n",
              "      <td>40</td>\n",
              "    </tr>\n",
              "    <tr>\n",
              "      <th>0</th>\n",
              "      <th>3</th>\n",
              "      <td>33</td>\n",
              "    </tr>\n",
              "    <tr>\n",
              "      <th>4</th>\n",
              "      <th>3</th>\n",
              "      <td>32</td>\n",
              "    </tr>\n",
              "    <tr>\n",
              "      <th>3</th>\n",
              "      <th>0</th>\n",
              "      <td>29</td>\n",
              "    </tr>\n",
              "    <tr>\n",
              "      <th>8</th>\n",
              "      <th>6</th>\n",
              "      <td>26</td>\n",
              "    </tr>\n",
              "    <tr>\n",
              "      <th>6</th>\n",
              "      <th>3</th>\n",
              "      <td>24</td>\n",
              "    </tr>\n",
              "    <tr>\n",
              "      <th>3</th>\n",
              "      <th>1</th>\n",
              "      <td>22</td>\n",
              "    </tr>\n",
              "    <tr>\n",
              "      <th>5</th>\n",
              "      <th>9</th>\n",
              "      <td>21</td>\n",
              "    </tr>\n",
              "    <tr>\n",
              "      <th>9</th>\n",
              "      <th>5</th>\n",
              "      <td>18</td>\n",
              "    </tr>\n",
              "    <tr>\n",
              "      <th>1</th>\n",
              "      <th>3</th>\n",
              "      <td>16</td>\n",
              "    </tr>\n",
              "    <tr>\n",
              "      <th>2</th>\n",
              "      <th>0</th>\n",
              "      <td>16</td>\n",
              "    </tr>\n",
              "    <tr>\n",
              "      <th>3</th>\n",
              "      <th>4</th>\n",
              "      <td>15</td>\n",
              "    </tr>\n",
              "    <tr>\n",
              "      <th>6</th>\n",
              "      <th>8</th>\n",
              "      <td>14</td>\n",
              "    </tr>\n",
              "    <tr>\n",
              "      <th>0</th>\n",
              "      <th>8</th>\n",
              "      <td>12</td>\n",
              "    </tr>\n",
              "    <tr>\n",
              "      <th>3</th>\n",
              "      <th>2</th>\n",
              "      <td>10</td>\n",
              "    </tr>\n",
              "    <tr>\n",
              "      <th rowspan=\"2\" valign=\"top\">2</th>\n",
              "      <th>8</th>\n",
              "      <td>10</td>\n",
              "    </tr>\n",
              "    <tr>\n",
              "      <th>3</th>\n",
              "      <td>9</td>\n",
              "    </tr>\n",
              "    <tr>\n",
              "      <th>0</th>\n",
              "      <th>2</th>\n",
              "      <td>8</td>\n",
              "    </tr>\n",
              "    <tr>\n",
              "      <th>1</th>\n",
              "      <th>6</th>\n",
              "      <td>7</td>\n",
              "    </tr>\n",
              "    <tr>\n",
              "      <th rowspan=\"2\" valign=\"top\">8</th>\n",
              "      <th>0</th>\n",
              "      <td>6</td>\n",
              "    </tr>\n",
              "    <tr>\n",
              "      <th>5</th>\n",
              "      <td>6</td>\n",
              "    </tr>\n",
              "    <tr>\n",
              "      <th>5</th>\n",
              "      <th>8</th>\n",
              "      <td>6</td>\n",
              "    </tr>\n",
              "    <tr>\n",
              "      <th>8</th>\n",
              "      <th>3</th>\n",
              "      <td>5</td>\n",
              "    </tr>\n",
              "    <tr>\n",
              "      <th>6</th>\n",
              "      <th>1</th>\n",
              "      <td>5</td>\n",
              "    </tr>\n",
              "    <tr>\n",
              "      <th rowspan=\"3\" valign=\"top\">8</th>\n",
              "      <th>4</th>\n",
              "      <td>4</td>\n",
              "    </tr>\n",
              "    <tr>\n",
              "      <th>7</th>\n",
              "      <td>4</td>\n",
              "    </tr>\n",
              "    <tr>\n",
              "      <th>2</th>\n",
              "      <td>3</td>\n",
              "    </tr>\n",
              "    <tr>\n",
              "      <th>0</th>\n",
              "      <th>1</th>\n",
              "      <td>3</td>\n",
              "    </tr>\n",
              "    <tr>\n",
              "      <th>4</th>\n",
              "      <th>8</th>\n",
              "      <td>3</td>\n",
              "    </tr>\n",
              "    <tr>\n",
              "      <th>5</th>\n",
              "      <th>1</th>\n",
              "      <td>2</td>\n",
              "    </tr>\n",
              "    <tr>\n",
              "      <th>2</th>\n",
              "      <th>1</th>\n",
              "      <td>2</td>\n",
              "    </tr>\n",
              "    <tr>\n",
              "      <th>1</th>\n",
              "      <th>5</th>\n",
              "      <td>2</td>\n",
              "    </tr>\n",
              "    <tr>\n",
              "      <th>8</th>\n",
              "      <th>9</th>\n",
              "      <td>2</td>\n",
              "    </tr>\n",
              "    <tr>\n",
              "      <th>0</th>\n",
              "      <th>5</th>\n",
              "      <td>2</td>\n",
              "    </tr>\n",
              "    <tr>\n",
              "      <th>6</th>\n",
              "      <th>5</th>\n",
              "      <td>1</td>\n",
              "    </tr>\n",
              "    <tr>\n",
              "      <th rowspan=\"2\" valign=\"top\">5</th>\n",
              "      <th>6</th>\n",
              "      <td>1</td>\n",
              "    </tr>\n",
              "    <tr>\n",
              "      <th>3</th>\n",
              "      <td>1</td>\n",
              "    </tr>\n",
              "    <tr>\n",
              "      <th>7</th>\n",
              "      <th>8</th>\n",
              "      <td>1</td>\n",
              "    </tr>\n",
              "    <tr>\n",
              "      <th>5</th>\n",
              "      <th>0</th>\n",
              "      <td>1</td>\n",
              "    </tr>\n",
              "    <tr>\n",
              "      <th rowspan=\"2\" valign=\"top\">4</th>\n",
              "      <th>1</th>\n",
              "      <td>1</td>\n",
              "    </tr>\n",
              "    <tr>\n",
              "      <th>0</th>\n",
              "      <td>1</td>\n",
              "    </tr>\n",
              "    <tr>\n",
              "      <th>3</th>\n",
              "      <th>8</th>\n",
              "      <td>1</td>\n",
              "    </tr>\n",
              "    <tr>\n",
              "      <th>1</th>\n",
              "      <th>2</th>\n",
              "      <td>1</td>\n",
              "    </tr>\n",
              "    <tr>\n",
              "      <th>0</th>\n",
              "      <th>9</th>\n",
              "      <td>1</td>\n",
              "    </tr>\n",
              "    <tr>\n",
              "      <th>9</th>\n",
              "      <th>8</th>\n",
              "      <td>1</td>\n",
              "    </tr>\n",
              "  </tbody>\n",
              "</table>\n",
              "</div>"
            ],
            "text/plain": [
              "                count\n",
              "actual predict       \n",
              "2      6          167\n",
              "6      0          145\n",
              "4      6          137\n",
              "0      6          126\n",
              "2      4          114\n",
              "6      2           68\n",
              "       4           67\n",
              "4      2           54\n",
              "7      9           50\n",
              "3      6           42\n",
              "5      7           41\n",
              "7      5           41\n",
              "9      7           40\n",
              "0      3           33\n",
              "4      3           32\n",
              "3      0           29\n",
              "8      6           26\n",
              "6      3           24\n",
              "3      1           22\n",
              "5      9           21\n",
              "9      5           18\n",
              "1      3           16\n",
              "2      0           16\n",
              "3      4           15\n",
              "6      8           14\n",
              "0      8           12\n",
              "3      2           10\n",
              "2      8           10\n",
              "       3            9\n",
              "0      2            8\n",
              "1      6            7\n",
              "8      0            6\n",
              "       5            6\n",
              "5      8            6\n",
              "8      3            5\n",
              "6      1            5\n",
              "8      4            4\n",
              "       7            4\n",
              "       2            3\n",
              "0      1            3\n",
              "4      8            3\n",
              "5      1            2\n",
              "2      1            2\n",
              "1      5            2\n",
              "8      9            2\n",
              "0      5            2\n",
              "6      5            1\n",
              "5      6            1\n",
              "       3            1\n",
              "7      8            1\n",
              "5      0            1\n",
              "4      1            1\n",
              "       0            1\n",
              "3      8            1\n",
              "1      2            1\n",
              "0      9            1\n",
              "9      8            1"
            ]
          },
          "execution_count": 70,
          "metadata": {},
          "output_type": "execute_result"
        }
      ],
      "source": [
        "df = pd.DataFrame([[1]*len(test_Y[test_Y != y_pred]),test_Y[test_Y != y_pred],y_pred[test_Y != y_pred]], index=['count','actual','predict']).transpose()\n",
        "df.groupby(['actual','predict']).sum('count').sort_values('count', ascending=False)"
      ]
    }
  ],
  "metadata": {
    "colab": {
      "provenance": [],
      "toc_visible": true
    },
    "kernelspec": {
      "display_name": "Python 3",
      "language": "python",
      "name": "python3"
    },
    "language_info": {
      "codemirror_mode": {
        "name": "ipython",
        "version": 3
      },
      "file_extension": ".py",
      "mimetype": "text/x-python",
      "name": "python",
      "nbconvert_exporter": "python",
      "pygments_lexer": "ipython3",
      "version": "3.10.7"
    },
    "orig_nbformat": 4
  },
  "nbformat": 4,
  "nbformat_minor": 0
}
